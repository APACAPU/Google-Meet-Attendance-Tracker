{
 "cells": [
  {
   "cell_type": "code",
   "execution_count": 1,
   "metadata": {},
   "outputs": [],
   "source": [
    "# web driver imports\n",
    "from selenium import webdriver\n",
    "from selenium.webdriver.chrome.options import Options\n",
    "from selenium.webdriver.common.by import By\n",
    "# excel file imports\n",
    "from openpyxl import load_workbook\n",
    "from openpyxl.utils import column_index_from_string\n",
    "# time import\n",
    "from time import sleep\n",
    "\n"
   ]
  },
  {
   "cell_type": "code",
   "execution_count": 2,
   "metadata": {},
   "outputs": [
    {
     "name": "stdout",
     "output_type": "stream",
     "text": [
      "Hui Ying\n",
      "Hui Ying Loe\n",
      "Sparkler 16\n",
      "No. of participants : 3\n",
      "Attendance taken successfully!\n"
     ]
    }
   ],
   "source": [
    "if __name__ == '__main__':\n",
    "    #create a config.json, read that json, and pass in data to here\n",
    "    import json \n",
    "    with open ('config.json') as json_file:\n",
    "        data = json.load(json_file)\n",
    "        gmail_id = data['gmail_id']\n",
    "        gmail_password = data['gmail_password']\n",
    "        meet_link = data['meet_link']\n",
    "\n",
    "    # Some necessary things for automation with google driver\n",
    "    opt = Options()\n",
    "    opt.add_argument(\"--disable-infobars\")\n",
    "    opt.add_argument(\"start-maximized\")\n",
    "    opt.add_argument(\"--disable-extensions\")\n",
    "\n",
    "    # This part allows the notifications, mic and camera permissions\n",
    "    # Pass the argument 1 to allow and 2 to block\n",
    "    opt.add_experimental_option(\"prefs\", {\n",
    "        \"profile.default_content_setting_values.media_stream_mic\": 1,\n",
    "        \"profile.default_content_setting_values.media_stream_camera\": 1,\n",
    "        \"profile.default_content_setting_values.geolocation\": 1,\n",
    "        \"profile.default_content_setting_values.notifications\": 1\n",
    "      })\n",
    "\n",
    "    # Sign in to google\n",
    "    driver = webdriver.Chrome(options=opt, executable_path=r\"C:\\Users\\Loe Hui Ying\\Downloads\\chromedriver.exe\") # eg. r\"C:\\Users\\hp\\Downloads\\chromedriver_win32\\chromedriver.exe\"\n",
    "    driver.get('https://stackoverflow.com/users/signup?ssrc=head&returnurl=%2fusers%2fstory%2fcurrent%27')  # signing in to google through stack overflow\n",
    "    sleep(2)\n",
    "    driver.find_element_by_xpath('//*[@id=\"openid-buttons\"]/button[1]').click()  # signing in with google\n",
    "    driver.find_element_by_xpath('//input[@type=\"email\"]').send_keys(gmail_id)  # entering the gmail id\n",
    "    driver.find_element_by_xpath('//*[@id=\"identifierNext\"]').click()\n",
    "    sleep(2)\n",
    "    driver.find_element_by_xpath('//input[@type=\"password\"]').send_keys(gmail_password)  # entering the password\n",
    "    driver.find_element_by_xpath('//*[@id=\"passwordNext\"]').click()\n",
    "    sleep(5)\n",
    "\n",
    "    driver.get('https://meet.google.com/')\n",
    "    \n",
    "    \n",
    "    # Enter the meeting\n",
    "    # Case when logged in with personal gmail account\n",
    "    driver.find_element_by_css_selector('input#i3').send_keys(meet_link)  # Enter a code or link\n",
    "    sleep(1)\n",
    "    driver.find_element_by_css_selector('button.VfPpkd-LgbsSe.VfPpkd-LgbsSe-OWXEXe-dgl2Hf.ksBjEc.lKxP2d.cjtUbb').click()  # join\n",
    "    sleep(2)\n",
    "    cam_mic_selectors = driver.find_elements_by_css_selector('div.U26fgb.JRY2Pb.mUbCce.kpROve')  # camera and mic\n",
    "    for e in cam_mic_selectors:\n",
    "        e.click()\n",
    "\n",
    "    sleep(2)\n",
    "    driver.find_element_by_css_selector('div.uArJ5e.UQuaGc.Y5sE8d.uyXBBb.xKiqt').click()  # join now\n",
    "    sleep(16)\n",
    "    driver.find_element_by_css_selector('div.uArJ5e.UQuaGc.kCyAyd.QU4Gid.foXzLb.IeuGXd').click()  # participant list\n",
    "    sleep(1)\n",
    "    ##write the participants name directly to the excel\n",
    "    names = driver.find_elements(By.XPATH, f'.//div[contains(@class, \"KV1GEc\")]')  # participants\n",
    "    name_list = []\n",
    "    for e in names[1:]:\n",
    "        print(e.text)\n",
    "        name = e.text\n",
    "        name_list.append(name)\n",
    "    n = int(driver.find_element_by_css_selector('div.eUyZxf span.rua5Nb').text.strip('(').strip(')'))  # no. of participants present\n",
    "    no = n \n",
    "    \n",
    "    wb = load_workbook('Google_Attendance.xlsx')\n",
    "    sheet = wb['Attendance Sheet']\n",
    "    \n",
    "    count = 0 \n",
    "    for i in range(2,no+1):\n",
    "        for name in name_list:\n",
    "            cell = \"A\" + str(i)\n",
    "            name_index = name_list[0]\n",
    "            sheet[cell] = name_index\n",
    "            count += 1\n",
    "            if count >= 1:\n",
    "                name_list.remove(name_index)\n",
    "                break\n",
    "            elif count > no:\n",
    "                break \n",
    "            \n",
    "                \n",
    "    wb.save('Google_Attendance.xlsx')\n",
    "    print(f'No. of participants : {n-1}')  # 1 participant adds up while taking attendance\n",
    "    print('Attendance taken successfully!')"
   ]
  },
  {
   "cell_type": "code",
   "execution_count": null,
   "metadata": {},
   "outputs": [],
   "source": []
  },
  {
   "cell_type": "code",
   "execution_count": null,
   "metadata": {},
   "outputs": [],
   "source": []
  },
  {
   "cell_type": "code",
   "execution_count": null,
   "metadata": {},
   "outputs": [],
   "source": []
  },
  {
   "cell_type": "code",
   "execution_count": null,
   "metadata": {},
   "outputs": [],
   "source": []
  }
 ],
 "metadata": {
  "kernelspec": {
   "display_name": "Python 3",
   "language": "python",
   "name": "python3"
  },
  "language_info": {
   "codemirror_mode": {
    "name": "ipython",
    "version": 3
   },
   "file_extension": ".py",
   "mimetype": "text/x-python",
   "name": "python",
   "nbconvert_exporter": "python",
   "pygments_lexer": "ipython3",
   "version": "3.8.5"
  }
 },
 "nbformat": 4,
 "nbformat_minor": 4
}
